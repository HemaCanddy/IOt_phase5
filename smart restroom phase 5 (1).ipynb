{
 "cells": [
  {
   "cell_type": "code",
   "execution_count": null,
   "id": "3733935a",
   "metadata": {},
   "outputs": [],
   "source": [
    "from kivy.app import App\n",
    "from kivy.uix.button import Button\n",
    "\n",
    "class RestroomApp(App):\n",
    "    def build(self):\n",
    "        button = Button(text=\"Check Restroom Status\")\n",
    "        button.bind(on_press=self.check_status)\n",
    "        return button\n",
    "\n",
    "    def check_status(self, instance):\n",
    "        # Send a request to the Raspberry Pi to get the restroom status\n",
    "        # You would use network communication libraries or APIs here\n",
    "        # Display the status in the app\n",
    "\n",
    "if __name__ == '__main__':\n",
    "    RestroomApp().run()\n",
    "\n",
    "    \n",
    "import RPi.GPIO as GPIO\n",
    "import time\n",
    "import tkinter as tk\n",
    "from tkinter import messagebox\n",
    "\n",
    "# GPIO setup for PIR motion sensor\n",
    "PIR_PIN = 14\n",
    "GPIO.setmode(GPIO.BCM)\n",
    "GPIO.setup(PIR_PIN, GPIO.IN)\n",
    "\n",
    "# Function to handle motion detection\n",
    "def motion_detected(channel):\n",
    "    print(\"Motion detected!\")\n",
    "    messagebox.showinfo(\"Restroom Alert\", \"Someone has entered the restroom.\")\n",
    "\n",
    "# Set up a callback for motion detection\n",
    "GPIO.add_event_detect(PIR_PIN, GPIO.RISING, callback=motion_detected)\n",
    "\n",
    "# Create a simple user interface using Tkinter\n",
    "root = tk.Tk()\n",
    "root.title(\"Smart Restroom\")\n",
    "\n",
    "label = tk.Label(root, text=\"Welcome to the Smart Restroom\")\n",
    "label.pack()\n",
    "\n",
    "def check_restroom_status():\n",
    "    messagebox.showinfo(\"Restroom Status\", \"Restroom is available.\")\n",
    "\n",
    "check_button = tk.Button(root, text=\"Check Restroom Status\", command=check_restroom_status)\n",
    "check_button.pack()\n",
    "\n",
    "root.mainloop()\n",
    "\n"
   ]
  }
 ],
 "metadata": {
  "kernelspec": {
   "display_name": "Python 3 (ipykernel)",
   "language": "python",
   "name": "python3"
  },
  "language_info": {
   "codemirror_mode": {
    "name": "ipython",
    "version": 3
   },
   "file_extension": ".py",
   "mimetype": "text/x-python",
   "name": "python",
   "nbconvert_exporter": "python",
   "pygments_lexer": "ipython3",
   "version": "3.11.5"
  }
 },
 "nbformat": 4,
 "nbformat_minor": 5
}
